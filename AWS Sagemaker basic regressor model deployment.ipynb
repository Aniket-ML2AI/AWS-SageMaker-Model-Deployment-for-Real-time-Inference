{
 "cells": [
  {
   "cell_type": "markdown",
   "id": "7cfa51d2",
   "metadata": {},
   "source": [
    "Import libraries"
   ]
  },
  {
   "cell_type": "code",
   "execution_count": 1,
   "id": "cbc9176e",
   "metadata": {},
   "outputs": [
    {
     "name": "stdout",
     "output_type": "stream",
     "text": [
      "sagemaker.config INFO - Not applying SDK defaults from location: /etc/xdg/sagemaker/config.yaml\n",
      "sagemaker.config INFO - Not applying SDK defaults from location: /home/ec2-user/.config/sagemaker/config.yaml\n",
      "CPU times: user 1.46 s, sys: 287 ms, total: 1.75 s\n",
      "Wall time: 26.1 s\n"
     ]
    }
   ],
   "source": [
    "%%time\n",
    "\n",
    "import os\n",
    "import sagemaker\n",
    "import boto3\n",
    "import pickle\n",
    "import pandas as pd\n",
    "import numpy as np\n",
    "\n",
    "from sagemaker import get_execution_role\n",
    "region = boto3.Session().region_name\n",
    "role = get_execution_role()"
   ]
  },
  {
   "cell_type": "markdown",
   "id": "df9c6e51",
   "metadata": {},
   "source": [
    "Create S3 bucket"
   ]
  },
  {
   "cell_type": "code",
   "execution_count": 5,
   "id": "fc8d936b",
   "metadata": {},
   "outputs": [],
   "source": [
    "# This creates a default S3 bucket where we will upload our model.\n",
    "bucket = sagemaker.Session().default_bucket()"
   ]
  },
  {
   "cell_type": "code",
   "execution_count": 6,
   "id": "a9e198e8",
   "metadata": {},
   "outputs": [],
   "source": [
    "bucket_path = \"https://s3-{}.amazonaws.com/{}\".format(region, bucket)"
   ]
  },
  {
   "cell_type": "code",
   "execution_count": 7,
   "id": "05555051",
   "metadata": {},
   "outputs": [
    {
     "name": "stdout",
     "output_type": "stream",
     "text": [
      "arn:aws:iam::533267128083:role/service-role/AmazonSageMakerServiceCatalogProductsUseRole\n",
      "us-west-1\n",
      "sagemaker-us-west-1-533267128083\n",
      "https://s3-us-west-1.amazonaws.com/sagemaker-us-west-1-533267128083\n"
     ]
    }
   ],
   "source": [
    "print(role)\n",
    "print(region)\n",
    "print(bucket)\n",
    "print(bucket_path)"
   ]
  },
  {
   "cell_type": "markdown",
   "id": "21930ac8",
   "metadata": {},
   "source": [
    "Need to install the xgboost version"
   ]
  },
  {
   "cell_type": "code",
   "execution_count": 8,
   "id": "e0c10616",
   "metadata": {},
   "outputs": [
    {
     "name": "stdout",
     "output_type": "stream",
     "text": [
      "Retrieving notices: ...working... done\n",
      "Collecting package metadata (current_repodata.json): done\n",
      "Solving environment: / \n",
      "The environment is inconsistent, please check the package plan carefully\n",
      "The following packages are causing the inconsistency:\n",
      "\n",
      "  - conda-forge/noarch::autopep8==2.0.4=pyhd8ed1ab_0\n",
      "  - conda-forge/linux-64::black==24.2.0=py310hff52083_0\n",
      "  - conda-forge/noarch::bleach==6.1.0=pyhd8ed1ab_0\n",
      "  - conda-forge/noarch::plotly==5.19.0=pyhd8ed1ab_0\n",
      "  - conda-forge/noarch::pytest==8.0.1=pyhd8ed1ab_1\n",
      "  - conda-forge/noarch::qtpy==2.4.1=pyhd8ed1ab_0\n",
      "  - conda-forge/linux-64::sip==6.7.12=py310hc6cd4ac_0\n",
      "  - conda-forge/noarch::tqdm==4.66.2=pyhd8ed1ab_0\n",
      "  - conda-forge/noarch::flask==3.0.2=pyhd8ed1ab_0\n",
      "  - conda-forge/noarch::importlib_metadata==7.0.1=hd8ed1ab_0\n",
      "  - conda-forge/noarch::nltk==3.8.1=pyhd8ed1ab_0\n",
      "  - conda-forge/linux-64::pyqt5-sip==12.12.2=py310hc6cd4ac_5\n",
      "  - conda-forge/noarch::pytoolconfig==1.2.5=pyhd8ed1ab_0\n",
      "  - conda-forge/noarch::qdarkstyle==3.1=pyhd8ed1ab_0\n",
      "  - conda-forge/noarch::qtawesome==1.3.0=pyh9208f05_0\n",
      "  - conda-forge/noarch::yapf==0.40.1=pyhd8ed1ab_0\n",
      "  - conda-forge/noarch::dask-core==2024.2.0=pyhd8ed1ab_0\n",
      "  - conda-forge/noarch::flask-cors==4.0.0=pyhd8ed1ab_0\n",
      "  - conda-forge/noarch::jupyter_client==8.6.0=pyhd8ed1ab_0\n",
      "  - conda-forge/noarch::pylint==2.17.7=pyhd8ed1ab_0\n",
      "  - conda-forge/noarch::rope==1.12.0=pyhd8ed1ab_0\n",
      "  - conda-forge/noarch::s3transfer==0.10.0=pyhd8ed1ab_0\n",
      "  - conda-forge/noarch::distributed==2024.2.0=pyhd8ed1ab_0\n",
      "  - conda-forge/noarch::ipykernel==6.29.2=pyhd33586a_0\n",
      "  - conda-forge/linux-64::keyring==24.3.0=py310hff52083_0\n",
      "  - conda-forge/noarch::python-lsp-server==1.7.4=pyhd8ed1ab_0\n",
      "  - conda-forge/noarch::jupyter_console==6.6.3=pyhd8ed1ab_0\n",
      "  - conda-forge/noarch::nbclient==0.8.0=pyhd8ed1ab_0\n",
      "  - conda-forge/noarch::pyls-spyder==0.4.0=pyhd8ed1ab_0\n",
      "  - conda-forge/linux-64::pyqt==5.15.9=py310h04931ad_5\n",
      "  - conda-forge/noarch::python-lsp-black==2.0.0=pyhd8ed1ab_0\n",
      "  - conda-forge/noarch::qtconsole-base==5.4.4=pyha770c72_0\n",
      "  - conda-forge/noarch::spyder-kernels==2.4.4=unix_pyh707e725_0\n",
      "  - conda-forge/linux-64::astropy==6.0.0=py310h1f7b6fc_0\n",
      "  - conda-forge/noarch::bokeh==3.3.4=pyhd8ed1ab_0\n",
      "  - conda-forge/linux-64::matplotlib-base==3.8.3=py310h62c0568_0\n",
      "  - conda-forge/noarch::nbconvert-core==7.16.1=pyhd8ed1ab_0\n",
      "  - conda-forge/linux-64::pyqtwebengine==5.15.9=py310h704022c_5\n",
      "  - conda-forge/linux-64::pytables==3.9.2=py310h374b01c_1\n",
      "  - conda-forge/noarch::qtconsole==5.4.4=pyhd8ed1ab_0\n",
      "  - conda-forge/linux-64::statsmodels==0.14.1=py310h1f7b6fc_0\n",
      "  - conda-forge/noarch::jupyter_server==2.12.5=pyhd8ed1ab_0\n",
      "  - conda-forge/linux-64::matplotlib==3.8.3=py310hff52083_0\n",
      "  - conda-forge/noarch::nbconvert-pandoc==7.16.1=pyhd8ed1ab_0\n",
      "  - conda-forge/linux-64::scikit-image==0.22.0=py310hcc13569_2\n",
      "  - conda-forge/noarch::seaborn-base==0.13.2=pyhd8ed1ab_0\n",
      "  - conda-forge/linux-64::shap==0.44.0=cpu_py310h7af0403_7\n",
      "  - conda-forge/noarch::jupyter-lsp==2.2.2=pyhd8ed1ab_0\n",
      "  - conda-forge/noarch::jupyterlab_server==2.25.3=pyhd8ed1ab_0\n",
      "  - conda-forge/noarch::nbconvert==7.16.1=pyhd8ed1ab_0\n",
      "  - conda-forge/noarch::notebook-shim==0.2.4=pyhd8ed1ab_0\n",
      "  - conda-forge/noarch::seaborn==0.13.2=hd8ed1ab_0\n",
      "  - conda-forge/noarch::jupyterlab==4.1.2=pyhd8ed1ab_0\n",
      "  - conda-forge/noarch::notebook==7.1.0=pyhd8ed1ab_0\n",
      "  - conda-forge/noarch::dask==2024.2.0=pyhd8ed1ab_0\n",
      "  - conda-forge/noarch::jupyter==1.0.0=pyhd8ed1ab_10\n",
      "  - conda-forge/noarch::hdijupyterutils==0.21.0=pyh1a96a4e_0\n",
      "  - conda-forge/noarch::autovizwidget==0.21.0=pyh1a96a4e_0\n",
      "  - conda-forge/noarch::sparkmagic==0.21.0=pyhd8ed1ab_0\n",
      "  - conda-forge/noarch::numpydoc==1.6.0=pyhd8ed1ab_0\n",
      "  - conda-forge/linux-64::spyder==5.4.5=py310hff52083_0\n",
      "  - conda-forge/noarch::sphinxcontrib-applehelp==1.0.8=pyhd8ed1ab_0\n",
      "  - conda-forge/noarch::sphinxcontrib-devhelp==1.0.6=pyhd8ed1ab_0\n",
      "  - conda-forge/noarch::sphinxcontrib-htmlhelp==2.0.5=pyhd8ed1ab_0\n",
      "  - conda-forge/noarch::sphinxcontrib-qthelp==1.0.7=pyhd8ed1ab_0\n",
      "  - conda-forge/noarch::sphinx==7.2.6=pyhd8ed1ab_0\n",
      "  - conda-forge/noarch::sphinxcontrib-serializinghtml==1.1.10=pyhd8ed1ab_0\n",
      "  - conda-forge/noarch::sphinxcontrib-websupport==1.2.7=pyhd8ed1ab_0\n",
      "done\n",
      "\n",
      "\n",
      "==> WARNING: A newer version of conda exists. <==\n",
      "  current version: 23.3.1\n",
      "  latest version: 24.3.0\n",
      "\n",
      "Please update conda by running\n",
      "\n",
      "    $ conda update -n base -c conda-forge conda\n",
      "\n",
      "Or to minimize the number of packages updated during conda update use\n",
      "\n",
      "     conda install conda=24.3.0\n",
      "\n",
      "\n",
      "\n",
      "## Package Plan ##\n",
      "\n",
      "  environment location: /home/ec2-user/anaconda3/envs/python3\n",
      "\n",
      "  added / updated specs:\n",
      "    - xgboost\n",
      "\n",
      "\n",
      "The following packages will be downloaded:\n",
      "\n",
      "    package                    |            build\n",
      "    ---------------------------|-----------------\n",
      "    _py-xgboost-mutex-2.0      |            cpu_0           8 KB  conda-forge\n",
      "    botocore-1.34.80           |pyge310_1234567_0         6.6 MB  conda-forge\n",
      "    libxgboost-2.0.3           |   cpu_hce603c2_3         5.0 MB  conda-forge\n",
      "    py-xgboost-2.0.3           | cpu_pyh43b6f25_3         130 KB  conda-forge\n",
      "    xgboost-2.0.3              | cpu_pyhc1a9e11_3          16 KB  conda-forge\n",
      "    ------------------------------------------------------------\n",
      "                                           Total:        11.7 MB\n",
      "\n",
      "The following NEW packages will be INSTALLED:\n",
      "\n",
      "  _py-xgboost-mutex  conda-forge/linux-64::_py-xgboost-mutex-2.0-cpu_0 \n",
      "  botocore           conda-forge/noarch::botocore-1.34.80-pyge310_1234567_0 \n",
      "  cloudpickle        conda-forge/noarch::cloudpickle-3.0.0-pyhd8ed1ab_0 \n",
      "  colorama           conda-forge/noarch::colorama-0.4.6-pyhd8ed1ab_0 \n",
      "  docutils           conda-forge/linux-64::docutils-0.20.1-py310hff52083_3 \n",
      "  importlib-metadata conda-forge/noarch::importlib-metadata-7.1.0-pyha770c72_0 \n",
      "  libxgboost         conda-forge/linux-64::libxgboost-2.0.3-cpu_hce603c2_3 \n",
      "  packaging          conda-forge/noarch::packaging-24.0-pyhd8ed1ab_0 \n",
      "  py-xgboost         conda-forge/noarch::py-xgboost-2.0.3-cpu_pyh43b6f25_3 \n",
      "  xgboost            conda-forge/noarch::xgboost-2.0.3-cpu_pyhc1a9e11_3 \n",
      "\n",
      "The following packages will be UPDATED:\n",
      "\n",
      "  importlib_metadata                       7.0.1-hd8ed1ab_0 --> 7.1.0-hd8ed1ab_0 \n",
      "  openssl                                  3.2.1-hd590300_0 --> 3.2.1-hd590300_1 \n",
      "\n",
      "\n",
      "\n",
      "Downloading and Extracting Packages\n",
      "_py-xgboost-mutex-2. | 8 KB      |                                       |   0% \n",
      "libxgboost-2.0.3     | 5.0 MB    |                                       |   0% \u001b[A\n",
      "\n",
      "botocore-1.34.80     | 6.6 MB    |                                       |   0% \u001b[A\u001b[A\n",
      "\n",
      "\n",
      "xgboost-2.0.3        | 16 KB     |                                       |   0% \u001b[A\u001b[A\u001b[A\n",
      "\n",
      "\n",
      "\n",
      "py-xgboost-2.0.3     | 130 KB    |                                       |   0% \u001b[A\u001b[A\u001b[A\u001b[A\n",
      "libxgboost-2.0.3     | 5.0 MB    | #7                                    |   5% \u001b[A\n",
      "\n",
      "_py-xgboost-mutex-2. | 8 KB      | ##################################### | 100% \u001b[A\u001b[A\n",
      "\n",
      "\n",
      "_py-xgboost-mutex-2. | 8 KB      | ##################################### | 100% \u001b[A\u001b[A\u001b[A\n",
      "\n",
      "\n",
      "xgboost-2.0.3        | 16 KB     | ##################################### | 100% \u001b[A\u001b[A\u001b[A\n",
      "libxgboost-2.0.3     | 5.0 MB    | ####################2                 |  55% \u001b[A\n",
      "\n",
      "botocore-1.34.80     | 6.6 MB    | ##############5                       |  39% \u001b[A\u001b[A\n",
      "\n",
      "\n",
      "\n",
      "py-xgboost-2.0.3     | 130 KB    | ##################################### | 100% \u001b[A\u001b[A\u001b[A\u001b[A\n",
      "\n",
      "\n",
      "\n",
      "py-xgboost-2.0.3     | 130 KB    | ##################################### | 100% \u001b[A\u001b[A\u001b[A\u001b[A\n",
      "libxgboost-2.0.3     | 5.0 MB    | ##################################### | 100% \u001b[A\n",
      "libxgboost-2.0.3     | 5.0 MB    | ##################################### | 100% \u001b[A\n",
      "\n",
      "botocore-1.34.80     | 6.6 MB    | ##################################### | 100% \u001b[A\u001b[A\n",
      "\n",
      "                                                                                \u001b[A\u001b[A\n",
      "                                                                                \u001b[A\n",
      "\n",
      "                                                                                \u001b[A\u001b[A\n",
      "\n",
      "\n",
      "                                                                                \u001b[A\u001b[A\u001b[A\n",
      "\n",
      "\n",
      "\n",
      "                                                                                \u001b[A\u001b[A\u001b[A\u001b[A\n",
      "Preparing transaction: done\n",
      "Verifying transaction: done\n",
      "Executing transaction: done\n"
     ]
    }
   ],
   "source": [
    "!conda install -y -c conda-forge xgboost"
   ]
  },
  {
   "cell_type": "code",
   "execution_count": 10,
   "id": "41ddc452",
   "metadata": {},
   "outputs": [
    {
     "name": "stdout",
     "output_type": "stream",
     "text": [
      "2.0.3\n"
     ]
    }
   ],
   "source": [
    "import xgboost\n",
    "print (xgboost.__version__)"
   ]
  },
  {
   "cell_type": "markdown",
   "id": "4e85c75c",
   "metadata": {},
   "source": [
    "Load the model from pickle"
   ]
  },
  {
   "cell_type": "code",
   "execution_count": 11,
   "id": "f692e382",
   "metadata": {},
   "outputs": [
    {
     "name": "stderr",
     "output_type": "stream",
     "text": [
      "/home/ec2-user/anaconda3/envs/python3/lib/python3.10/site-packages/xgboost/core.py:160: UserWarning: [10:16:30] WARNING: /home/conda/feedstock_root/build_artifacts/xgboost-split_1712072639327/work/src/common/error_msg.h:80: If you are loading a serialized model (like pickle in Python, RDS in R) or\n",
      "configuration generated by an older version of XGBoost, please export the model by calling\n",
      "`Booster.save_model` from that version first, then load it back in current version. See:\n",
      "\n",
      "    https://xgboost.readthedocs.io/en/stable/tutorials/saving_model.html\n",
      "\n",
      "for more details about differences between saving model and serializing.\n",
      "\n",
      "  warnings.warn(smsg, UserWarning)\n"
     ]
    }
   ],
   "source": [
    "with open ('model.pkl','rb') as file:\n",
    "    model = pickle.load(file)"
   ]
  },
  {
   "cell_type": "markdown",
   "id": "adf21ef0",
   "metadata": {},
   "source": [
    "Load the preprocessor"
   ]
  },
  {
   "cell_type": "code",
   "execution_count": 12,
   "id": "4558112b",
   "metadata": {},
   "outputs": [
    {
     "name": "stderr",
     "output_type": "stream",
     "text": [
      "/home/ec2-user/anaconda3/envs/python3/lib/python3.10/site-packages/sklearn/base.py:376: InconsistentVersionWarning: Trying to unpickle estimator SimpleImputer from version 1.3.0 when using version 1.4.1.post1. This might lead to breaking code or invalid results. Use at your own risk. For more info please refer to:\n",
      "https://scikit-learn.org/stable/model_persistence.html#security-maintainability-limitations\n",
      "  warnings.warn(\n",
      "/home/ec2-user/anaconda3/envs/python3/lib/python3.10/site-packages/sklearn/base.py:376: InconsistentVersionWarning: Trying to unpickle estimator StandardScaler from version 1.3.0 when using version 1.4.1.post1. This might lead to breaking code or invalid results. Use at your own risk. For more info please refer to:\n",
      "https://scikit-learn.org/stable/model_persistence.html#security-maintainability-limitations\n",
      "  warnings.warn(\n",
      "/home/ec2-user/anaconda3/envs/python3/lib/python3.10/site-packages/sklearn/base.py:376: InconsistentVersionWarning: Trying to unpickle estimator Pipeline from version 1.3.0 when using version 1.4.1.post1. This might lead to breaking code or invalid results. Use at your own risk. For more info please refer to:\n",
      "https://scikit-learn.org/stable/model_persistence.html#security-maintainability-limitations\n",
      "  warnings.warn(\n",
      "/home/ec2-user/anaconda3/envs/python3/lib/python3.10/site-packages/sklearn/base.py:376: InconsistentVersionWarning: Trying to unpickle estimator OneHotEncoder from version 1.3.0 when using version 1.4.1.post1. This might lead to breaking code or invalid results. Use at your own risk. For more info please refer to:\n",
      "https://scikit-learn.org/stable/model_persistence.html#security-maintainability-limitations\n",
      "  warnings.warn(\n",
      "/home/ec2-user/anaconda3/envs/python3/lib/python3.10/site-packages/sklearn/base.py:376: InconsistentVersionWarning: Trying to unpickle estimator ColumnTransformer from version 1.3.0 when using version 1.4.1.post1. This might lead to breaking code or invalid results. Use at your own risk. For more info please refer to:\n",
      "https://scikit-learn.org/stable/model_persistence.html#security-maintainability-limitations\n",
      "  warnings.warn(\n"
     ]
    }
   ],
   "source": [
    "with open ('preprocessor.pkl','rb') as file:\n",
    "    preprocessor = pickle.load(file)"
   ]
  },
  {
   "cell_type": "markdown",
   "id": "2a298af8",
   "metadata": {},
   "source": [
    "Read the test data and perform data pre-processing"
   ]
  },
  {
   "cell_type": "code",
   "execution_count": 13,
   "id": "50c4eb63",
   "metadata": {},
   "outputs": [],
   "source": [
    "df_test = pd.read_csv('test.csv')\n",
    "test_sparse_arr = preprocessor.transform(df_test)\n",
    "test_np_arr = test_sparse_arr.toarray()"
   ]
  },
  {
   "cell_type": "markdown",
   "id": "0ac5d369",
   "metadata": {},
   "source": [
    "Test prediction"
   ]
  },
  {
   "cell_type": "code",
   "execution_count": 14,
   "id": "31513d1a",
   "metadata": {},
   "outputs": [],
   "source": [
    "prediction = model.predict(test_np_arr)"
   ]
  },
  {
   "cell_type": "code",
   "execution_count": 15,
   "id": "dff84256",
   "metadata": {},
   "outputs": [
    {
     "data": {
      "text/plain": [
       "array([118074.14 , 151834.38 , 164716.77 , ..., 150627.88 , 119018.516,\n",
       "       194844.45 ], dtype=float32)"
      ]
     },
     "execution_count": 15,
     "metadata": {},
     "output_type": "execute_result"
    }
   ],
   "source": [
    "prediction"
   ]
  },
  {
   "cell_type": "markdown",
   "id": "1713c88d",
   "metadata": {},
   "source": [
    "Create a tar.gz model file as this is the format required by Sagemaker for deployment."
   ]
  },
  {
   "cell_type": "code",
   "execution_count": 16,
   "id": "49a12524",
   "metadata": {},
   "outputs": [],
   "source": [
    "import tarfile\n",
    "\n",
    "with tarfile.open('model.tar.gz', 'w:gz') as tar:\n",
    "    tar.add('model.pkl')"
   ]
  },
  {
   "cell_type": "markdown",
   "id": "7a14b958",
   "metadata": {},
   "source": [
    "Upload the pre-trained model to S3"
   ]
  },
  {
   "cell_type": "code",
   "execution_count": 17,
   "id": "64aad033",
   "metadata": {},
   "outputs": [
    {
     "name": "stdout",
     "output_type": "stream",
     "text": [
      "sagemaker/DEMO-xgboost-byo/model.tar.gz\n"
     ]
    }
   ],
   "source": [
    "prefix = \"sagemaker/DEMO-xgboost-byo\"\n",
    "fObj = open(\"model.tar.gz\",\"rb\")\n",
    "key = os.path.join(prefix,\"model.tar.gz\")\n",
    "print (key)\n",
    "boto3.Session().resource('s3').Bucket(bucket).Object(key).upload_fileobj(fObj)"
   ]
  },
  {
   "cell_type": "markdown",
   "id": "703254b4",
   "metadata": {},
   "source": [
    "Set up Model Hosting\n",
    "\n",
    "1. Create Sagemaker model\n",
    "2. Create endpoint configuration"
   ]
  },
  {
   "cell_type": "code",
   "execution_count": null,
   "id": "282610d2",
   "metadata": {},
   "outputs": [],
   "source": [
    "from sagemaker.amazon.amazon_estimator import get_image_uri\n",
    "#### Get the built-in xgboost container image in Sagemaker to host our model\n",
    "\n",
    "container = get_image_uri(boto3.Session().region_name,\"xgboost\")"
   ]
  },
  {
   "cell_type": "code",
   "execution_count": 25,
   "id": "c35b9a4b",
   "metadata": {},
   "outputs": [
    {
     "name": "stdout",
     "output_type": "stream",
     "text": [
      "https://s3-us-west-1.amazonaws.com/sagemaker-us-west-1-533267128083/sagemaker/DEMO-xgboost-byo/model.tar.gz\n",
      "arn:aws:sagemaker:us-west-1:533267128083:model/XGBHousingPricePrediction2024-04-09-07-53-44\n"
     ]
    }
   ],
   "source": [
    "from time import gmtime,strftime\n",
    "model_name = \"XGBHousingPricePrediction\" + strftime(\"%Y-%m-%d-%H-%M-%S\", gmtime())\n",
    "model_url = \"https://s3-{}.amazonaws.com/{}/{}\".format(region, bucket, key)\n",
    "sm_client = boto3.client('sagemaker')\n",
    "print (model_url)\n",
    "primary_container = {\n",
    "    \n",
    "    \"Image\": container,\n",
    "    \"ModelDataUrl\": model_url\n",
    "}\n",
    "\n",
    "sm_model = sm_client.create_model(ModelName=model_name, ExecutionRoleArn=role, PrimaryContainer=primary_container)\n",
    "print (sm_model['ModelArn'])"
   ]
  },
  {
   "cell_type": "markdown",
   "id": "1a286b04",
   "metadata": {},
   "source": [
    "Create Endpoint Configuration"
   ]
  },
  {
   "cell_type": "code",
   "execution_count": 26,
   "id": "3e45452d",
   "metadata": {},
   "outputs": [
    {
     "name": "stdout",
     "output_type": "stream",
     "text": [
      "XGBHousingPricePrediction-2024-04-09-07-59-42\n"
     ]
    }
   ],
   "source": [
    "endpoint_config_name = \"XGBHousingPricePrediction-\" + strftime(\"%Y-%m-%d-%H-%M-%S\", gmtime())\n",
    "print (endpoint_config_name)"
   ]
  },
  {
   "cell_type": "code",
   "execution_count": 29,
   "id": "bcdd2fdb",
   "metadata": {},
   "outputs": [
    {
     "name": "stdout",
     "output_type": "stream",
     "text": [
      "Endpoint Config Arn: arn:aws:sagemaker:us-west-1:533267128083:endpoint-config/XGBHousingPricePrediction-2024-04-09-07-59-42\n"
     ]
    }
   ],
   "source": [
    "create_endpoint_config_response = sm_client.create_endpoint_config(\n",
    "    EndpointConfigName = endpoint_config_name,\n",
    "    ProductionVariants = [\n",
    "        {\n",
    "            \"InstanceType\": \"ml.t2.medium\",\n",
    "            \"InitialInstanceCount\": 1,\n",
    "            \"InitialVariantWeight\": 1,\n",
    "            \"ModelName\": model_name,\n",
    "            \"VariantName\": \"AllTraffic\",\n",
    "        }\n",
    "        \n",
    "        \n",
    "    ],\n",
    "\n",
    ")\n",
    "\n",
    "print(\"Endpoint Config Arn: \" + create_endpoint_config_response[\"EndpointConfigArn\"])"
   ]
  },
  {
   "cell_type": "markdown",
   "id": "7b686603",
   "metadata": {},
   "source": [
    "Create End point"
   ]
  },
  {
   "cell_type": "code",
   "execution_count": null,
   "id": "6e728f52",
   "metadata": {},
   "outputs": [
    {
     "name": "stdout",
     "output_type": "stream",
     "text": [
      "XGBHousingPricePredictionEndpoint-2024-04-09-08-08-08\n",
      "arn:aws:sagemaker:us-west-1:533267128083:endpoint/XGBHousingPricePredictionEndpoint-2024-04-09-08-08-08\n",
      "Status: Creating\n",
      "Status: Creating\n",
      "Status: Creating\n",
      "Status: Creating\n",
      "Status: Creating\n",
      "Status: Creating\n",
      "Status: Creating\n",
      "Status: Creating\n",
      "Status: Creating\n",
      "Status: Creating\n",
      "Status: Creating\n",
      "Status: Creating\n",
      "Status: Creating\n",
      "Status: Creating\n",
      "Status: Creating\n",
      "Status: Creating\n",
      "Status: Creating\n",
      "Status: Creating\n",
      "Status: Creating\n",
      "Status: Creating\n",
      "Status: Creating\n",
      "Status: Creating\n"
     ]
    }
   ],
   "source": [
    "import time\n",
    "endpoint_name = \"XGBHousingPricePredictionEndpoint-\" + strftime(\"%Y-%m-%d-%H-%M-%S\", gmtime())\n",
    "print (endpoint_name)\n",
    "create_endpoint_response = sm_client.create_endpoint(\n",
    "    EndpointName=endpoint_name, EndpointConfigName=endpoint_config_name\n",
    ")\n",
    "print(create_endpoint_response[\"EndpointArn\"])\n",
    "\n",
    "resp = sm_client.describe_endpoint(EndpointName=endpoint_name)\n",
    "status = resp[\"EndpointStatus\"]\n",
    "print(\"Status: \" + status)\n",
    "\n",
    "while status == \"Creating\":\n",
    "    time.sleep(60)\n",
    "    resp = sm_client.describe_endpoint(EndpointName=endpoint_name)\n",
    "    status = resp[\"EndpointStatus\"]\n",
    "    print(\"Status: \" + status)\n",
    "\n",
    "print(\"Arn: \" + resp[\"EndpointArn\"])\n",
    "print(\"Status: \" + status)"
   ]
  },
  {
   "cell_type": "markdown",
   "id": "b2f440d3",
   "metadata": {},
   "source": [
    "Launching necessary AWS Services for End-to-End Communication using API gateway\n",
    "\n",
    "\n",
    "1. Create a Lambda function with the below mentioned python code, that calls the SageMaker runtime invoke_endpoint and returns the prediction\n",
    "\n",
    "2. Create a REST API (API Gateway) and integrate with the Lambda function\n",
    "\n",
    "3. Testing the final Deployment from local client"
   ]
  },
  {
   "cell_type": "code",
   "execution_count": null,
   "id": "589677a6",
   "metadata": {},
   "outputs": [],
   "source": []
  }
 ],
 "metadata": {
  "kernelspec": {
   "display_name": "conda_python3",
   "language": "python",
   "name": "conda_python3"
  },
  "language_info": {
   "codemirror_mode": {
    "name": "ipython",
    "version": 3
   },
   "file_extension": ".py",
   "mimetype": "text/x-python",
   "name": "python",
   "nbconvert_exporter": "python",
   "pygments_lexer": "ipython3",
   "version": "3.10.13"
  }
 },
 "nbformat": 4,
 "nbformat_minor": 5
}
